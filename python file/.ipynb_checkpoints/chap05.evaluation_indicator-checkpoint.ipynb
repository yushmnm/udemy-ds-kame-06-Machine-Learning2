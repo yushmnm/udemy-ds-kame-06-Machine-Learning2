{
 "cells": [
  {
   "cell_type": "markdown",
   "id": "f1ea514f-93b3-4fe8-b7cb-17f73bba95bd",
   "metadata": {},
   "source": [
    "##　セクション５　分類モデルの評価指標"
   ]
  },
  {
   "cell_type": "markdown",
   "id": "c704e5e8-0c82-4dd6-bb19-2c760d96b234",
   "metadata": {
    "tags": []
   },
   "source": [
    "### 混同行列"
   ]
  },
  {
   "cell_type": "code",
   "execution_count": 62,
   "id": "fd955b36-8145-4fbe-a11e-6f9d460ce908",
   "metadata": {},
   "outputs": [],
   "source": [
    "import pandas as pd\n",
    "import matplotlib.pyplot as plt\n",
    "import numpy as np\n",
    "import seaborn as sns\n",
    "from sklearn.model_selection import train_test_split\n",
    "from sklearn.preprocessing import label_binarize\n",
    "from sklearn.linear_model import LogisticRegression\n",
    "from sklearn.metrics import log_loss\n",
    "from sklearn.metrics import accuracy_score,confusion_matrix,precision_score,recall_score,f1_score,ConfusionMatrixDisplay"
   ]
  },
  {
   "cell_type": "code",
   "execution_count": 2,
   "id": "6d74ac3e-cfef-47b4-8726-dee8bcf69d9b",
   "metadata": {},
   "outputs": [],
   "source": [
    "df = sns.load_dataset('iris')\n",
    "\n",
    "#前処理\n",
    "y_col ='species'\n",
    "X = df.loc[:,df.columns!=y_col]\n",
    "y = df[y_col]\n",
    "X_train,X_test,y_train,y_test = train_test_split(X,y,random_state=0,test_size=0.3)\n",
    "#モデルの作成\n",
    "model = LogisticRegression(penalty='none')\n",
    "model.fit(X_train,y_train)\n",
    "#予測\n",
    "y_pred = model.predict(X_test)"
   ]
  },
  {
   "cell_type": "code",
   "execution_count": 9,
   "id": "bf42e235-bbb7-430c-ac44-d0f23e05d059",
   "metadata": {},
   "outputs": [],
   "source": [
    "cm = confusion_matrix(y_test,y_pred)"
   ]
  },
  {
   "cell_type": "code",
   "execution_count": 11,
   "id": "16840a25-52b6-4b03-bcbc-1c4e72e0a8e4",
   "metadata": {},
   "outputs": [
    {
     "data": {
      "text/plain": [
       "<sklearn.metrics._plot.confusion_matrix.ConfusionMatrixDisplay at 0x4062a3e6d0>"
      ]
     },
     "execution_count": 11,
     "metadata": {},
     "output_type": "execute_result"
    },
    {
     "data": {
      "image/png": "[encoded data removed]",
      "text/plain": [
       "<Figure size 432x288 with 2 Axes>"
      ]
     },
     "metadata": {
      "needs_background": "light"
     },
     "output_type": "display_data"
    }
   ],
   "source": [
    "#　綺麗に描画\n",
    "disp = ConfusionMatrixDisplay(confusion_matrix=cm,display_labels=model.classes_)\n",
    "disp.plot()"
   ]
  },
  {
   "cell_type": "markdown",
   "id": "ee4816ba-fedb-4854-a2f1-f85cb67e89f7",
   "metadata": {},
   "source": [
    "## Accuracy(正解率)"
   ]
  },
  {
   "cell_type": "code",
   "execution_count": 13,
   "id": "54ddbd9e-efe3-4727-b95d-54500179a5e6",
   "metadata": {},
   "outputs": [
    {
     "data": {
      "text/plain": [
       "0.9555555555555556"
      ]
     },
     "execution_count": 13,
     "metadata": {},
     "output_type": "execute_result"
    }
   ],
   "source": [
    "accuracy_score(y_test,y_pred)"
   ]
  },
  {
   "cell_type": "markdown",
   "id": "5eb3140f-ab43-4f91-a0ad-e1400318045f",
   "metadata": {},
   "source": [
    "## Precision（適合率）\n",
    "- 陽性と分類した中で実際に陽性である割合（TP/TP+FP）\n",
    "- PPV(Positive Predictive value)\n",
    "- 例：医師の見落としをキャッチするAIの開発"
   ]
  },
  {
   "cell_type": "code",
   "execution_count": 16,
   "id": "2d7409cc-2d59-4d19-b6d1-c0d433bcd336",
   "metadata": {},
   "outputs": [
    {
     "data": {
      "text/plain": [
       "0.6"
      ]
     },
     "execution_count": 16,
     "metadata": {},
     "output_type": "execute_result"
    }
   ],
   "source": [
    "#サンプルデータ\n",
    "y_true = [1,1,0,1,0,0,1,1]\n",
    "y_pred = [1,1,1,0,0,1,0,1]\n",
    "precision_score(y_true,y_pred)"
   ]
  },
  {
   "cell_type": "markdown",
   "id": "58e696d3-9e43-4188-aa1b-b4a98dd7a56c",
   "metadata": {},
   "source": [
    "## Recall(再現率)\n",
    "- 陽性のデータに対してどれだけ陽性と予測できたか(TP/TP+FN)\n",
    "- 読影前段のAI診断（事前にAIが陽性と診断した画像のみ医師が診断を行うケース）\n",
    "- 医療分野ではSensitivityともいう"
   ]
  },
  {
   "cell_type": "code",
   "execution_count": 17,
   "id": "9254ba9b-7c6e-4b82-966c-c113a8ae64c5",
   "metadata": {},
   "outputs": [
    {
     "data": {
      "text/plain": [
       "0.6"
      ]
     },
     "execution_count": 17,
     "metadata": {},
     "output_type": "execute_result"
    }
   ],
   "source": [
    "recall_score(y_true,y_pred)"
   ]
  },
  {
   "cell_type": "markdown",
   "id": "9810e773-ae58-4e7f-8459-96159a2715c0",
   "metadata": {},
   "source": [
    "## Specificity（特異度）\n",
    "- 陰性のデータに対してどれだけ陰性と予測できたか(TN/TN+FP)\n",
    "- Recallの陰性バージョン\n",
    "- sklearnには実装されていないので、データの陽性と陰性を逆にしてRecallを求めればOK"
   ]
  },
  {
   "cell_type": "code",
   "execution_count": 19,
   "id": "faf0c1ef-7914-4c5b-b7a1-556b0c134147",
   "metadata": {},
   "outputs": [
    {
     "data": {
      "text/plain": [
       "array([False, False,  True, False,  True,  True, False, False])"
      ]
     },
     "execution_count": 19,
     "metadata": {},
     "output_type": "execute_result"
    }
   ],
   "source": [
    "y_true = [1,1,0,1,0,0,1,1]\n",
    "y_pred = [1,1,1,0,0,1,0,1]\n",
    "np.array(y_true)!=1"
   ]
  },
  {
   "cell_type": "code",
   "execution_count": 20,
   "id": "2026537b-b989-414d-918a-5a17ce745818",
   "metadata": {},
   "outputs": [
    {
     "data": {
      "text/plain": [
       "0.3333333333333333"
      ]
     },
     "execution_count": 20,
     "metadata": {},
     "output_type": "execute_result"
    }
   ],
   "source": [
    "recall_score(np.array(y_true)!=1,np.array(y_pred)!=1)"
   ]
  },
  {
   "cell_type": "markdown",
   "id": "3394f103-c328-4d76-9730-a0e30aeff78f",
   "metadata": {},
   "source": [
    "## 多クラスでの評価指標\n",
    "### 多クラスの場合は、大きく二つの計算の仕方がある\n",
    "#### 例；Aが10/100 Bが25/50 Cが3/10のラベルの場合\n",
    "- macro平均：クラスラベルで平均とる  \n",
    " AのAccuracy：0.1,BのAccuracy：0.5、CのAccuracy：0.3の場合、(0.1+0.3+0.5)/3=0.3\n",
    "- micro平均：データレベルで平均をとる  \n",
    " Accuracyを計算 (10+25+3)/160=0.24\n",
    "\n",
    "##### ふつうAccuracyと言ったらMicro平均のことを指す\n",
    "##### Precision,Recall,Specificityのmicro平均はAccuracyと同じになる\n",
    "##### Precision,Recall,Specificityは通常Macro平均を取る"
   ]
  },
  {
   "cell_type": "markdown",
   "id": "e47c9200-baa9-4011-ad7d-3e4d33aee619",
   "metadata": {},
   "source": [
    "### Precisionのmacro/micro平均を計算する\n",
    "- precision_score(y_true,y_pred,avarage)\n",
    "- average引数にmacroとmicroを渡す\n",
    "- noneを渡すとクラス別に指標を計算し、Listで返す"
   ]
  },
  {
   "cell_type": "code",
   "execution_count": 21,
   "id": "8d86a76e-76a3-4e2f-8955-2f1644c1c6c4",
   "metadata": {},
   "outputs": [],
   "source": [
    "df = sns.load_dataset('iris')\n",
    "\n",
    "#前処理\n",
    "y_col ='species'\n",
    "X = df.loc[:,df.columns!=y_col]\n",
    "y = df[y_col]\n",
    "X_train,X_test,y_train,y_test = train_test_split(X,y,random_state=0,test_size=0.3)\n",
    "#モデルの作成\n",
    "model = LogisticRegression(penalty='none')\n",
    "model.fit(X_train,y_train)\n",
    "#予測\n",
    "y_pred = model.predict(X_test)"
   ]
  },
  {
   "cell_type": "code",
   "execution_count": 30,
   "id": "bccef65d-030b-415a-945c-0a058da27bdf",
   "metadata": {},
   "outputs": [
    {
     "name": "stdout",
     "output_type": "stream",
     "text": [
      "[1.         0.94444444 0.90909091]\n",
      "0.9511784511784511\n",
      "0.9511784511784511\n",
      "0.9555555555555556\n",
      "0.9555555555555556\n"
     ]
    }
   ],
   "source": [
    "#average=None\n",
    "print(precision_score(y_test,y_pred,average=None))\n",
    "#average=macro\n",
    "print(precision_score(y_test,y_pred,average='macro'))\n",
    "print(precision_score(y_test,y_pred,average=None).mean())\n",
    "#average=micro\n",
    "print(precision_score(y_test,y_pred,average='micro'))\n",
    "print(accuracy_score(y_test,y_pred))"
   ]
  },
  {
   "cell_type": "markdown",
   "id": "dea5010e-7576-4516-b7f9-37fc3f3fd917",
   "metadata": {},
   "source": [
    "## Precision-Recall curve"
   ]
  },
  {
   "cell_type": "code",
   "execution_count": 31,
   "id": "b76d95d1-6607-4e36-98ee-1de16bf4f00e",
   "metadata": {},
   "outputs": [
    {
     "data": {
      "text/plain": [
       "array([[0.49520585, 0.50479415],\n",
       "       [0.28366802, 0.71633198],\n",
       "       [0.99732492, 0.00267508],\n",
       "       [0.06897633, 0.93102367],\n",
       "       [0.47851468, 0.52148532],\n",
       "       [0.99002332, 0.00997668],\n",
       "       [0.66307864, 0.33692136],\n",
       "       [0.7927538 , 0.2072462 ],\n",
       "       [0.3021324 , 0.6978676 ],\n",
       "       [0.3021324 , 0.6978676 ]])"
      ]
     },
     "execution_count": 31,
     "metadata": {},
     "output_type": "execute_result"
    }
   ],
   "source": [
    "df = pd.read_csv('../heart_preprocessed.csv')\n",
    "y_col = 'target'\n",
    "X = df.drop(columns=[y_col])\n",
    "y = df[y_col]\n",
    "X_train, X_test, y_train, y_test = train_test_split(X, y, test_size=0.3, random_state=0)\n",
    "#　モデル構築\n",
    "model = LogisticRegression(solver='liblinear')\n",
    "model.fit(X_train, y_train)\n",
    "y_pred_proba = model.predict_proba(X_test)\n",
    "y_pred_proba[:10]"
   ]
  },
  {
   "cell_type": "code",
   "execution_count": 36,
   "id": "604c279b-3f2b-463f-8ea1-f7d70fb89d59",
   "metadata": {},
   "outputs": [],
   "source": [
    "from sklearn.metrics import precision_recall_curve\n",
    "precision,recall,threshholds = precision_recall_curve(y_test,y_pred_proba[:,1])"
   ]
  },
  {
   "cell_type": "code",
   "execution_count": 40,
   "id": "27792cea-3c82-44cb-b7ef-26545e3e538a",
   "metadata": {},
   "outputs": [
    {
     "data": {
      "image/png": "[encoded data removed]",
      "text/plain": [
       "<Figure size 432x288 with 1 Axes>"
      ]
     },
     "metadata": {
      "needs_background": "light"
     },
     "output_type": "display_data"
    }
   ],
   "source": [
    "plt.plot(recall, precision)\n",
    "plt.xlabel('recall')\n",
    "plt.ylabel('precision')\n",
    "plt.title('Precision Recall Curve')\n",
    "plt.show()"
   ]
  },
  {
   "cell_type": "markdown",
   "id": "59bd6556-ad11-4a6b-abf3-0b562c8bdc5b",
   "metadata": {},
   "source": [
    "## F1スコア\n"
   ]
  },
  {
   "cell_type": "code",
   "execution_count": 41,
   "id": "092260f1-0f55-4e38-aad8-22a5078ab7b8",
   "metadata": {},
   "outputs": [
    {
     "name": "stdout",
     "output_type": "stream",
     "text": [
      "0.4444444444444445\n",
      "0.5\n",
      "0.4\n"
     ]
    }
   ],
   "source": [
    "from sklearn.metrics import f1_score, recall_score, precision_score\n",
    "y_true = [1, 0, 0, 1, 0, 0, 1, 1]\n",
    "y_pred = [1, 1, 1, 0, 0, 1, 0, 1]\n",
    "# F1\n",
    "print(f1_score(y_true, y_pred))\n",
    "# recall\n",
    "print(recall_score(y_true, y_pred))\n",
    "# precision\n",
    "print(precision_score(y_true, y_pred))"
   ]
  },
  {
   "cell_type": "markdown",
   "id": "27928f10-0978-4929-b2e3-0d8dbd98e8ec",
   "metadata": {},
   "source": [
    "### 課題：閾値に対してのPrecision,Recall,F値の推移を描画しよう"
   ]
  },
  {
   "cell_type": "code",
   "execution_count": 50,
   "id": "f3266554-e9ef-4c20-a12d-51d6bc29943d",
   "metadata": {},
   "outputs": [],
   "source": [
    "df = pd.read_csv('../heart_preprocessed.csv')\n",
    "y_col = 'target'\n",
    "X = df.drop(columns=[y_col])\n",
    "y = df[y_col]\n",
    "X_train, X_test, y_train, y_test = train_test_split(X, y, test_size=0.3, random_state=0)\n",
    "#　モデル構築\n",
    "model = LogisticRegression(solver='liblinear')\n",
    "model.fit(X_train, y_train)\n",
    "y_pred_proba = model.predict_proba(X_test)\n",
    "\n",
    "precision,recall,thresholds = precision_recall_curve(y_test,y_pred_proba[:,1])\n",
    "\n",
    "# 調和平均ver\n",
    "from scipy.stats import hmean\n",
    "hmean([recall_score(y_true, y_pred), precision_score(y_true, y_pred)])\n",
    "\n",
    "f1_scores = [hmean([p,r]) for p,r in zip(precision,recall)] "
   ]
  },
  {
   "cell_type": "code",
   "execution_count": 52,
   "id": "7b606af5-57fd-4502-8fdc-a908551c61e2",
   "metadata": {},
   "outputs": [
    {
     "name": "stdout",
     "output_type": "stream",
     "text": [
      "66th threshold(=0.44) is the highest f1 score = 0.86\n"
     ]
    },
    {
     "data": {
      "image/png": "[encoded data removed]",
      "text/plain": [
       "<Figure size 432x288 with 1 Axes>"
      ]
     },
     "metadata": {
      "needs_background": "light"
     },
     "output_type": "display_data"
    }
   ],
   "source": [
    "plt.plot(thresholds, f1_scores[:-1], label='f1 score')\n",
    "plt.plot(thresholds, precision[:-1], label='precision')\n",
    "plt.plot(thresholds, recall[:-1], label='recall')\n",
    "plt.xlabel('threshlold')\n",
    "plt.legend()\n",
    "print(f'{np.argmax(f1_scores)}th threshold(={thresholds[np.argmax(f1_scores)]:.2f}) is the highest f1 score = {np.max(f1_scores):.2f}')"
   ]
  },
  {
   "cell_type": "markdown",
   "id": "b0bb7aee-7583-4c0b-b91f-e6c522e37880",
   "metadata": {},
   "source": [
    "### ROC\n",
    "- Recall(TP/TP+TN:正しく陽性に分類できた数/陽性の数)とSpecificity(TN/TN+FP：正しく陰性に分類できた数/陰性の数)は  \n",
    "トレードオフの関係にある\n",
    "- 横軸に1-specificity（陰性のデータに対して、間違えて陽性に分類した割合）,縦軸にreacall（陽性のデータを正しく陽性に分類できた割合）とした時に閾値の変化が描くカーブ\n",
    "- 分類器の評価で最もよく使われる指標の一つ\n",
    "- sensitivityを上げるために陽性と分類する頻度を上げると、陰性データを誤って陽性と分類する頻度も上がり、1-specificityも上がる\n",
    "- sklearn.metrics.roc_curve:roc_curvr(y_true,y_pred),fpr,tpr,thresholdsの３つの一次元arrayを返す"
   ]
  },
  {
   "cell_type": "code",
   "execution_count": 57,
   "id": "c653a67d-df52-4f6a-b198-b657c88a37b7",
   "metadata": {},
   "outputs": [
    {
     "data": {
      "image/png": "[encoded data removed]",
      "text/plain": [
       "<Figure size 432x288 with 1 Axes>"
      ]
     },
     "metadata": {
      "needs_background": "light"
     },
     "output_type": "display_data"
    }
   ],
   "source": [
    "from sklearn.metrics import roc_curve\n",
    "fpr,tpr,thresholds = roc_curve(y_test,y_pred_proba[:,1])\n",
    "#　描画\n",
    "plt.plot(fpr ,tpr)\n",
    "plt.xlabel('1-specificity(FPR)')\n",
    "plt.ylabel('sensitivity(TPR)')\n",
    "plt.title('ROC Curve')\n",
    "plt.show()\n"
   ]
  },
  {
   "cell_type": "markdown",
   "id": "54c9caa2-ee62-4fb9-8584-31b0316a57da",
   "metadata": {},
   "source": [
    "### AUC(Area Under the Curve)\n",
    "- ROCにおける精度を数値化したもの\n",
    "- ROCが作る面積\n",
    "- 1が最大で、ランダムな分類器では0.5になる"
   ]
  },
  {
   "cell_type": "code",
   "execution_count": 58,
   "id": "1376dac7-b2bd-438c-83bc-d03936e1f684",
   "metadata": {},
   "outputs": [
    {
     "data": {
      "text/plain": [
       "0.919542785981142"
      ]
     },
     "execution_count": 58,
     "metadata": {},
     "output_type": "execute_result"
    }
   ],
   "source": [
    "from sklearn.metrics import auc\n",
    "auc(fpr, tpr)"
   ]
  },
  {
   "cell_type": "markdown",
   "id": "918776a1-0692-44b3-9233-4c5a0912f638",
   "metadata": {
    "tags": []
   },
   "source": [
    "### 多クラス分類におけるROC\n",
    "- 多クラス分類の場合、macro平均もしくはmicro平均を取る\n",
    "- macro平均：OvRでクラス数分のROCを描画し、その平均を取る  \n",
    "　クラスレベルの平均（クラスごとの平均を取る）  \n",
    "　データ数が少ないクラスの値も重視\n",
    "\n",
    "- macro平均：OvRとした時の結果（FPR,TPR）でまとめてROCを描く  \n",
    " データレベルの平均（データ全体で計算）  \n",
    " データ数が多いクラスの結果を重視\n"
   ]
  },
  {
   "cell_type": "markdown",
   "id": "b8be2d3d-f8cb-4f98-a82a-a52f0b832634",
   "metadata": {},
   "source": [
    "### 多クラスROCを描画する\n",
    "- 正解ラベルは、One-hotの形にする\n",
    "- macro平均を求めるにはそれぞれのクラス別のfpr,tprを求め、線形補完し平均を取る\n",
    "- micro平均はone-hotのカッチのせいかいラベルと予測した確率リストを一元配列してroc_curve()に入れれば良い"
   ]
  },
  {
   "cell_type": "code",
   "execution_count": 74,
   "id": "b19b71e9-e2ce-4840-92ca-fce07d100d6b",
   "metadata": {},
   "outputs": [],
   "source": [
    "df = sns.load_dataset('iris')\n",
    "\n",
    "#前処理\n",
    "y_col ='species'\n",
    "X = df.loc[:,df.columns!=y_col]\n",
    "y = df[y_col]\n",
    "X_train,X_test,y_train,y_test = train_test_split(X,y,random_state=0,test_size=0.3)\n",
    "n_classes = len(y.unique())\n",
    "#モデルの作成\n",
    "model = LogisticRegression(penalty='none')\n",
    "model.fit(X_train,y_train)\n",
    "#予測\n",
    "y_pred_proba = model.predict_proba(X_test)"
   ]
  },
  {
   "cell_type": "markdown",
   "id": "69b820b7-5b58-40e7-ae9a-276755836be3",
   "metadata": {},
   "source": [
    "### macro平均\n",
    "クラスレベルの平均（クラスごとの平均を取る）  \n",
    "データ数が少ないクラスの値も重視"
   ]
  },
  {
   "cell_type": "code",
   "execution_count": 75,
   "id": "7c0290a3-f5f9-4820-bc49-9177896e1e6a",
   "metadata": {},
   "outputs": [],
   "source": [
    "#まずはターゲット変数をone-hotエンコーディングにする\n",
    "y_test_one_hot = label_binarize(y_test,classes=model.classes_)\n",
    "#それぞれのクラスのfprとtprを求める(使わない返り値は_に格納する)\n",
    "fpr = {}\n",
    "tpr = {}\n",
    "roc_auc = {}\n",
    "for i in range(n_classes):\n",
    "    fpr[i], tpr[i], _ = roc_curve(y_test_one_hot[:, i], y_pred_proba[:, i])\n",
    "    roc_auc[i] = auc(fpr[i], tpr[i])"
   ]
  },
  {
   "cell_type": "code",
   "execution_count": 76,
   "id": "b89c3e56-517a-4893-85b8-0bd62d819135",
   "metadata": {},
   "outputs": [
    {
     "data": {
      "image/png": "[encoded data removed]",
      "text/plain": [
       "<Figure size 432x288 with 1 Axes>"
      ]
     },
     "metadata": {
      "needs_background": "light"
     },
     "output_type": "display_data"
    }
   ],
   "source": [
    "# それぞれのクラスのROC\n",
    "for i in range(n_classes):\n",
    "    plt.plot(fpr[i], tpr[i], label=f'class: {i}')\n",
    "    plt.legend()"
   ]
  },
  {
   "cell_type": "code",
   "execution_count": 77,
   "id": "310969ef-e857-4bb6-ad4b-041ef00c2b3c",
   "metadata": {},
   "outputs": [
    {
     "data": {
      "text/plain": [
       "array([0.        , 1.        , 2.        , 2.66666667, 3.33333333,\n",
       "       4.        , 6.        ])"
      ]
     },
     "execution_count": 77,
     "metadata": {},
     "output_type": "execute_result"
    }
   ],
   "source": [
    "#線形補間のメソッド\n",
    "all_x = np.arange(7)\n",
    "data_x = [0, 2, 5, 6]\n",
    "data_y = [0, 2, 4, 6]\n",
    "np.interp(all_x, data_x, data_y)"
   ]
  },
  {
   "cell_type": "markdown",
   "id": "d2a5a8ab-9f13-485b-bfa4-416d83810967",
   "metadata": {},
   "source": [
    "# 必要なxの値のリスト\n",
    "all_fpr = np.unique(np.concatenate([fpr[i] for i in range(n_classes)]))\n",
    "# 線形補完\n",
    "mean_tpr = np.zeros_like(all_fpr)\n",
    "for i in range(n_classes):\n",
    "    mean_tpr += np.interp(all_fpr, fpr[i], tpr[i])\n",
    "mean_tpr = mean_tpr / n_classes"
   ]
  },
  {
   "cell_type": "code",
   "execution_count": 79,
   "id": "98db3b0c-2e9f-4ed0-a6c5-e71b5d1d8916",
   "metadata": {},
   "outputs": [],
   "source": [
    "fpr['macro'] = all_fpr\n",
    "tpr['macro'] = mean_tpr\n",
    "roc_auc['macro'] = auc(fpr['macro'], tpr['macro'])"
   ]
  },
  {
   "cell_type": "code",
   "execution_count": 80,
   "id": "f21423b8-eb5f-4d94-b5a8-b920f609f691",
   "metadata": {},
   "outputs": [
    {
     "data": {
      "text/plain": [
       "<matplotlib.legend.Legend at 0x4065394e20>"
      ]
     },
     "execution_count": 80,
     "metadata": {},
     "output_type": "execute_result"
    },
    {
     "data": {
      "image/png": "[encoded data removed]",
      "text/plain": [
       "<Figure size 432x288 with 1 Axes>"
      ]
     },
     "metadata": {
      "needs_background": "light"
     },
     "output_type": "display_data"
    }
   ],
   "source": [
    "# それぞれのクラスとmacro平均のROC\n",
    "for i in range(n_classes):\n",
    "    plt.plot(fpr[i], tpr[i], label=f'class: {i}')\n",
    "plt.plot(fpr['macro'], tpr['macro'], label='macro')\n",
    "plt.legend()"
   ]
  },
  {
   "cell_type": "markdown",
   "id": "99ef27aa-bc8c-4d1c-ba09-e352f7d66a8e",
   "metadata": {},
   "source": [
    "### micro平均"
   ]
  },
  {
   "cell_type": "code",
   "execution_count": 82,
   "id": "1c4276d4-1047-43ce-a538-616db8f0f961",
   "metadata": {},
   "outputs": [],
   "source": [
    "#.ravelで一次元にする\n",
    "fpr['micro'], tpr['micro'], _ = roc_curve(y_test_one_hot.ravel(), y_pred_proba.ravel())\n",
    "roc_auc['micro'] = auc(fpr['micro'], tpr['micro'])"
   ]
  },
  {
   "cell_type": "code",
   "execution_count": 83,
   "id": "ed65a583-7604-46ae-81fa-17566bea39d6",
   "metadata": {},
   "outputs": [
    {
     "data": {
      "text/plain": [
       "<matplotlib.legend.Legend at 0x40651a68e0>"
      ]
     },
     "execution_count": 83,
     "metadata": {},
     "output_type": "execute_result"
    },
    {
     "data": {
      "image/png": "[encoded data removed]",
      "text/plain": [
       "<Figure size 432x288 with 1 Axes>"
      ]
     },
     "metadata": {
      "needs_background": "light"
     },
     "output_type": "display_data"
    }
   ],
   "source": [
    "# それぞれのクラスとmacro平均とmicro平均のROC\n",
    "for i in range(n_classes):\n",
    "    plt.plot(fpr[i], tpr[i], label=f'class: {i}')\n",
    "plt.plot(fpr['macro'], tpr['macro'], label='macro')\n",
    "plt.plot(fpr['micro'], tpr['micro'], label='micro')\n",
    "plt.legend()"
   ]
  },
  {
   "cell_type": "code",
   "execution_count": null,
   "id": "b484dc94-daf2-4435-b3d7-817eec65e1fc",
   "metadata": {},
   "outputs": [],
   "source": []
  }
 ],
 "metadata": {
  "kernelspec": {
   "display_name": "Python 3 (ipykernel)",
   "language": "python",
   "name": "python3"
  },
  "language_info": {
   "codemirror_mode": {
    "name": "ipython",
    "version": 3
   },
   "file_extension": ".py",
   "mimetype": "text/x-python",
   "name": "python",
   "nbconvert_exporter": "python",
   "pygments_lexer": "ipython3",
   "version": "3.9.12"
  }
 },
 "nbformat": 4,
 "nbformat_minor": 5
}
